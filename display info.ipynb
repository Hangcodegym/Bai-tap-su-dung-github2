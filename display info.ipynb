{
 "cells": [
  {
   "cell_type": "code",
   "execution_count": 1,
   "id": "b35c7c86",
   "metadata": {},
   "outputs": [
    {
     "name": "stdout",
     "output_type": "stream",
     "text": [
      "Pham Thi Hang\n"
     ]
    }
   ],
   "source": [
    "print(\"Pham Thi Hang\")"
   ]
  },
  {
   "cell_type": "code",
   "execution_count": 2,
   "id": "9fc4167f",
   "metadata": {},
   "outputs": [
    {
     "name": "stdout",
     "output_type": "stream",
     "text": [
      "come from: Binh Duong\n"
     ]
    }
   ],
   "source": [
    "print(\"come from: Binh Duong\")"
   ]
  },
  {
   "cell_type": "code",
   "execution_count": 3,
   "id": "bf12aa6c",
   "metadata": {},
   "outputs": [
    {
     "name": "stdout",
     "output_type": "stream",
     "text": [
      "Class: python basis\n"
     ]
    }
   ],
   "source": [
    "print(\"Class: python basis\")"
   ]
  },
  {
   "cell_type": "code",
   "execution_count": null,
   "id": "40f3be5a",
   "metadata": {},
   "outputs": [],
   "source": []
  }
 ],
 "metadata": {
  "kernelspec": {
   "display_name": "Python 3 (ipykernel)",
   "language": "python",
   "name": "python3"
  },
  "language_info": {
   "codemirror_mode": {
    "name": "ipython",
    "version": 3
   },
   "file_extension": ".py",
   "mimetype": "text/x-python",
   "name": "python",
   "nbconvert_exporter": "python",
   "pygments_lexer": "ipython3",
   "version": "3.9.12"
  }
 },
 "nbformat": 4,
 "nbformat_minor": 5
}
